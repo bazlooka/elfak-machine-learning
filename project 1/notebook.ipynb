{
 "cells": [
  {
   "cell_type": "markdown",
   "metadata": {},
   "source": [
    "## 1. Projekat iz predmeta Mašinsko učenje\n",
    "\n",
    "Klasifikacija po karakteristikama zemlje\n",
    "\n",
    "Marija Cvetković 1940\n",
    "\n",
    "Luka Kocić 2022"
   ]
  },
  {
   "cell_type": "code",
   "execution_count": 3,
   "metadata": {},
   "outputs": [],
   "source": [
    "import pandas as pd\n",
    "import numpy as np"
   ]
  },
  {
   "cell_type": "code",
   "execution_count": 4,
   "metadata": {},
   "outputs": [],
   "source": [
    "df = pd.read_csv(\"input.csv\")"
   ]
  },
  {
   "cell_type": "code",
   "execution_count": 5,
   "metadata": {},
   "outputs": [
    {
     "name": "stdout",
     "output_type": "stream",
     "text": [
      "<class 'pandas.core.frame.DataFrame'>\n",
      "RangeIndex: 1000000 entries, 0 to 999999\n",
      "Data columns (total 17 columns):\n",
      " #   Column                             Non-Null Count    Dtype  \n",
      "---  ------                             --------------    -----  \n",
      " 0   Soil_ID                            1000000 non-null  int64  \n",
      " 1   Location_Latitude                  1000000 non-null  float64\n",
      " 2   Location_Longitude                 1000000 non-null  float64\n",
      " 3   Depth_cm                           1000000 non-null  float64\n",
      " 4   Texture                            1000000 non-null  object \n",
      " 5   pH                                 1000000 non-null  float64\n",
      " 6   Organic_Matter_%                   1000000 non-null  float64\n",
      " 7   Moisture_Content_%                 1000000 non-null  float64\n",
      " 8   Bulk_Density_g/cm³                 1000000 non-null  float64\n",
      " 9   Nitrogen_N_ppm                     1000000 non-null  float64\n",
      " 10  Phosphorus_P_ppm                   1000000 non-null  float64\n",
      " 11  Potassium_K_ppm                    1000000 non-null  float64\n",
      " 12  Cation_Exchange_Capacity_meq/100g  1000000 non-null  float64\n",
      " 13  Electrical_Conductivity_dS/m       1000000 non-null  float64\n",
      " 14  Soil_Color                         1000000 non-null  object \n",
      " 15  Porosity_%                         1000000 non-null  float64\n",
      " 16  Water_Holding_Capacity_%           1000000 non-null  float64\n",
      "dtypes: float64(14), int64(1), object(2)\n",
      "memory usage: 129.7+ MB\n"
     ]
    }
   ],
   "source": [
    "df.info()"
   ]
  }
 ],
 "metadata": {
  "kernelspec": {
   "display_name": ".venv",
   "language": "python",
   "name": "python3"
  },
  "language_info": {
   "codemirror_mode": {
    "name": "ipython",
    "version": 3
   },
   "file_extension": ".py",
   "mimetype": "text/x-python",
   "name": "python",
   "nbconvert_exporter": "python",
   "pygments_lexer": "ipython3",
   "version": "3.12.6"
  }
 },
 "nbformat": 4,
 "nbformat_minor": 2
}
